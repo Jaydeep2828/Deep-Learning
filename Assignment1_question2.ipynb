{
 "cells": [
  {
   "cell_type": "code",
   "execution_count": 1,
   "metadata": {},
   "outputs": [],
   "source": [
    "# importing the liberary\n",
    "import numpy as np\n",
    "import matplotlib.pyplot as plt\n",
    "import sympy as sp"
   ]
  },
  {
   "cell_type": "code",
   "execution_count": 2,
   "metadata": {},
   "outputs": [],
   "source": [
    "x, y = sp.symbols('x y')\n",
    "a=int (input(\"Enter the value of a.....\"))\n",
    "def z_function(x,y):             #defining a function\n",
    "    global f\n",
    "    f = x**2+a*y**2\n",
    "    return f\n",
    "def calculate_partial(t,s):      #function to calculate partial derivative\n",
    "    df_dx = sp.diff(z_function(x,y), x)\n",
    "    df_dy = sp.diff(z_function(x,y), y)\n",
    "    point = {x: t, y: s}\n",
    "    x_der=df_dx.subs(point)\n",
    "    y_der=df_dy.subs(point)\n",
    "    return x_der,y_der\n",
    "x_values=np.arange(-100,100,0.1)\n",
    "y_values=np.arange(-100,100,0.1)\n",
    "X,Y=np.meshgrid(x_values,y_values)         #to create 2d matrix from 2 1d arrays\n",
    "Z=z_function(X,Y)\n",
    "\n",
    "\n"
   ]
  },
  {
   "cell_type": "code",
   "execution_count": 3,
   "metadata": {},
   "outputs": [],
   "source": [
    "lr=float(input(\"Enter the learning rate.....\"))                 #to get the learning rate form the user\n",
    "d=int(input(\"Enter the initial x point....\"))                   \n",
    "e=int(input(\"Enter the initial y point....\"))\n",
    "def gradient_descent(fig):\n",
    "    ax1 = fig.add_subplot(121)          #for the 2d contour plot\n",
    "    ax2 = fig.add_subplot(122)                                       #for the plot between z_function and iteration\n",
    "    iteration=20\n",
    "    current_pos=(d,e,z_function(2,2))\n",
    "    x_values = []  \n",
    "    y_values = []\n",
    "    z_values=[]\n",
    "    iteration_values = []\n",
    "\n",
    "    for i in range (iteration):                     #main logic of gradient descent is inside this loop\n",
    "        X_derivative,Y_derivative=calculate_partial(current_pos[0],current_pos[1])\n",
    "        X_new,Y_new=current_pos[0]-lr*X_derivative, current_pos[1]-lr*Y_derivative\n",
    "        Z_new= z_function(X_new,Y_new)\n",
    "        current_pos=(X_new,Y_new,Z_new)\n",
    "        x_values.append(X_new) \n",
    "        y_values.append(Y_new)\n",
    "        z_values.append(Z_new)\n",
    "        iteration_values.append(i)\n",
    "\n",
    "        print(current_pos[0],current_pos[1],current_pos[2])\n",
    "        ax1.clear()\n",
    "        ax1.clear()\n",
    "        ax1.contourf(X, Y, Z, levels=20, cmap='viridis')\n",
    "        ax1.scatter(x_values, y_values, color=\"magenta\", marker='o')\n",
    "        ax1.set_xlabel(\"X\")\n",
    "        ax1.set_ylabel(\"Y\")\n",
    "        ax1.set_title('2D Contour Plot of the Function')\n",
    "        ax2.plot(iteration_values, z_values, color=\"blue\")\n",
    "        ax2.set_xlabel(\"Iteration\")\n",
    "        ax2.set_ylabel(\"Z Value\")\n",
    "        if np.linalg.norm([float(X_derivative), float(Y_derivative)]) < 1e-6:       #to check the end condition when the gradient of the function is very close to 0\n",
    "            print(\"Optimum point:\")\n",
    "            print(\"X:\", current_pos[0])\n",
    "            print(\"Y:\", current_pos[1])\n",
    "            print(\"Z:\", current_pos[2])\n",
    "            break\n",
    "\n",
    "\n",
    "\n"
   ]
  },
  {
   "cell_type": "code",
   "execution_count": null,
   "metadata": {},
   "outputs": [],
   "source": [
    "fig = plt.figure()\n",
    "fig.subplots_adjust(wspace=1)           #for the proper spacing of the two plots\n",
    "gradient_descent(fig)                   #to call the function\n"
   ]
  }
 ],
 "metadata": {
  "kernelspec": {
   "display_name": "Python 3",
   "language": "python",
   "name": "python3"
  },
  "language_info": {
   "codemirror_mode": {
    "name": "ipython",
    "version": 3
   },
   "file_extension": ".py",
   "mimetype": "text/x-python",
   "name": "python",
   "nbconvert_exporter": "python",
   "pygments_lexer": "ipython3",
   "version": "3.9.0"
  }
 },
 "nbformat": 4,
 "nbformat_minor": 2
}
